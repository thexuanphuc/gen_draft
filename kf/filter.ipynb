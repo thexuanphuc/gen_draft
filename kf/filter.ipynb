{
 "cells": [
  {
   "cell_type": "code",
   "execution_count": 6,
   "id": "3e0be55e",
   "metadata": {},
   "outputs": [
    {
     "data": {
      "text/latex": [
       "$\\displaystyle x_{\\text{temp}}: \\left[\\begin{matrix}dt vx_{pred} + x_{pred} + x_{step}\\\\A_{21} x_{pred} + B_{2} u_{in} + vx_{pred}\\end{matrix}\\right]$"
      ],
      "text/plain": [
       "<IPython.core.display.Math object>"
      ]
     },
     "metadata": {},
     "output_type": "display_data"
    },
    {
     "data": {
      "text/latex": [
       "$\\displaystyle P_{\\text{pred}}: \\left[\\begin{matrix}P_{11} + P_{21} dt + Q_{11} + dt \\left(P_{12} + P_{22} dt\\right) & A_{21} \\left(P_{11} + P_{21} dt\\right) + P_{12} + P_{22} dt\\\\A_{21} P_{11} + P_{21} + dt \\left(A_{21} P_{12} + P_{22}\\right) & A_{21} P_{12} + A_{21} \\left(A_{21} P_{11} + P_{21}\\right) + P_{22} + Q_{22}\\end{matrix}\\right]$"
      ],
      "text/plain": [
       "<IPython.core.display.Math object>"
      ]
     },
     "metadata": {},
     "output_type": "display_data"
    },
    {
     "data": {
      "text/latex": [
       "$\\displaystyle S: P_{11} + P_{21} dt + Q_{11} + R_{mea} + dt \\left(P_{12} + P_{22} dt\\right)$"
      ],
      "text/plain": [
       "<IPython.core.display.Math object>"
      ]
     },
     "metadata": {},
     "output_type": "display_data"
    },
    {
     "data": {
      "text/latex": [
       "$\\displaystyle K: \\left[\\begin{matrix}K_{1}\\\\K_{2}\\end{matrix}\\right]$"
      ],
      "text/plain": [
       "<IPython.core.display.Math object>"
      ]
     },
     "metadata": {},
     "output_type": "display_data"
    },
    {
     "data": {
      "text/latex": [
       "$\\displaystyle P_{\\text{update}}: \\left[\\begin{matrix}K_{1}^{2} R_{mea} + P_{pred11} \\left(K_{1} - 1\\right)^{2} & K_{1} K_{2} R_{mea} + K_{2} P_{pred11} \\left(K_{1} - 1\\right) - P_{pred12} \\left(K_{1} - 1\\right)\\\\K_{1} K_{2} R_{mea} + \\left(K_{1} - 1\\right) \\left(K_{2} P_{pred11} - P_{pred21}\\right) & K_{2}^{2} R_{mea} - K_{2} P_{pred12} + K_{2} \\left(K_{2} P_{pred11} - P_{pred21}\\right) + P_{pred22}\\end{matrix}\\right]$"
      ],
      "text/plain": [
       "<IPython.core.display.Math object>"
      ]
     },
     "metadata": {},
     "output_type": "display_data"
    },
    {
     "data": {
      "text/latex": [
       "$\\displaystyle x_{\\text{update}}: \\left[\\begin{matrix}- K_{1} \\left(x_{temp1} - y_{meaUD}\\right) + x_{temp1}\\\\- K_{2} \\left(x_{temp1} - y_{meaUD}\\right) + vx_{step} + x_{temp2}\\end{matrix}\\right]$"
      ],
      "text/plain": [
       "<IPython.core.display.Math object>"
      ]
     },
     "metadata": {},
     "output_type": "display_data"
    },
    {
     "name": "stdout",
     "output_type": "stream",
     "text": [
      "x_temp: Matrix([[dt*vx_pred + x_pred + x_step], [A21*x_pred + B2*u_in + vx_pred]])\n",
      "P_pred: Matrix([[P11 + P21*dt + Q11 + dt*(P12 + P22*dt), A21*(P11 + P21*dt) + P12 + P22*dt], [A21*P11 + P21 + dt*(A21*P12 + P22), A21*P12 + A21*(A21*P11 + P21) + P22 + Q22]])\n",
      "S: P11 + P21*dt + Q11 + R_mea + dt*(P12 + P22*dt)\n",
      "K: Matrix([[K1], [K2]])\n",
      "P_update: Matrix([[K1**2*R_mea + P_pred11*(K1 - 1)**2, K1*K2*R_mea + K2*P_pred11*(K1 - 1) - P_pred12*(K1 - 1)], [K1*K2*R_mea + (K1 - 1)*(K2*P_pred11 - P_pred21), K2**2*R_mea - K2*P_pred12 + K2*(K2*P_pred11 - P_pred21) + P_pred22]])\n",
      "x_update: Matrix([[-K1*(x_temp1 - y_meaUD) + x_temp1], [-K2*(x_temp1 - y_meaUD) + vx_step + x_temp2]])\n"
     ]
    }
   ],
   "source": [
    "from sympy import symbols, Matrix, eye, simplify\n",
    "from sympy import latex\n",
    "from IPython.display import display, Math\n",
    "\n",
    "# Define symbols\n",
    "dt, k_re, mass, u = symbols('dt k_re mass u_in')\n",
    "\n",
    "A21 = symbols('A21')  # Element of matrix A\n",
    "B2 = symbols('B2')  # Element of matrix B\n",
    "P11, P12, P21, P22 = symbols('P11 P12 P21 P22')  # Elements of covariance matrix P\n",
    "P11_sim, P12_sim, P21_sim, P22_sim = symbols('P_pred11 P_pred12 P_pred21 P_pred22')  # Simulated covariance matrix elements\n",
    "Q11, Q22 = symbols('Q11 Q22')  # Elements of process noise covariance matrix Q\n",
    "R_mea = symbols('R_mea')  # Measurement noise covariance (scalar)\n",
    "\n",
    "x_pred, vx_pred = symbols('x_pred vx_pred')  # Predicted state variables\n",
    "y_mea, y_meaUD = symbols('y_mea y_meaUD')  # Measurement variable\n",
    "x_step, vx_step = symbols('x_step vx_step')  # relative update\n",
    "# System matrices\n",
    "A = Matrix([[1, dt], \n",
    "            [A21, 1]])\n",
    "B = Matrix([[0], [B2]])\n",
    "C = Matrix([[1, 0]])\n",
    "x_pred_vector = Matrix([[x_pred], [vx_pred]])\n",
    "\n",
    "# Prediction step (before jumping)\n",
    "x_temp = A * x_pred_vector + B * u  # Predicted state vector\n",
    "x_temp[0] += x_step  \n",
    "P_pred = A * Matrix([[P11, P12], [P21, P22]]) * A.T + Matrix([[Q11, 0], [0, Q22]])\n",
    "jumping_step = Matrix([[x_step], [vx_step]])\n",
    "\n",
    "# Measurement step(after jumping)\n",
    "# Calculate Kalman gain\n",
    "S = (C * P_pred * C.T)[0, 0] + R_mea  # Extract scalar from 1x1 matrix and add R\n",
    "S_sim = symbols('S')  # Measurement prediction covariance\n",
    "# K = P_pred * C.T / S  # 2x1 vector\n",
    "\n",
    "# Joseph form update\n",
    "x_temp_sim_11, x_temp_sim_12 = symbols('x_temp1 x_temp2')\n",
    "x_temp_sim = Matrix([[x_temp_sim_11], [x_temp_sim_12]])\n",
    "K1, K2 = symbols('K1 K2')  # Kalman gain components\n",
    "# K = Matrix([[P11_sim/S_sim], [P21_sim/S_sim]])\n",
    "K = Matrix([[K1], [K2]])\n",
    "P_pred_sim = Matrix([[P11_sim, P12_sim], [P21_sim, P22_sim]])\n",
    "\n",
    "I = eye(2)\n",
    "IKC = I - K * C\n",
    "P_update = IKC * P_pred_sim * IKC.T + K * R_mea * K.T\n",
    "\n",
    "# compute update state vector\n",
    "x_update = x_temp_sim + K * (y_meaUD - (C * (x_temp_sim))[0, 0])\n",
    "x_update[1] += jumping_step[1]\n",
    "\n",
    "# Simplify expressions\n",
    "# Simplify all key expressions\n",
    "x_temp_s = simplify(x_temp)\n",
    "P_pred_s = simplify(P_pred)\n",
    "S_s = simplify(S)\n",
    "K_s = simplify(K)\n",
    "P_update_s = simplify(P_update)\n",
    "x_update_s = simplify(x_update)\n",
    "\n",
    "# Display results in LaTeX\n",
    "display(Math(r\"x_{\\text{temp}}: \" + latex(x_temp_s)))\n",
    "display(Math(r\"P_{\\text{pred}}: \" + latex(P_pred_s)))\n",
    "display(Math(r\"S: \" + latex(S_s)))\n",
    "display(Math(r\"K: \" + latex(K_s)))\n",
    "display(Math(r\"P_{\\text{update}}: \" + latex(P_update_s)))\n",
    "display(Math(r\"x_{\\text{update}}: \" + latex(x_update_s)))\n",
    "print(\"x_temp:\", x_temp_s)\n",
    "print(\"P_pred:\", P_pred_s)\n",
    "print(\"S:\", S_s)\n",
    "print(\"K:\", K_s)\n",
    "print(\"P_update:\", P_update_s)\n",
    "print(\"x_update:\", x_update_s)\n",
    "\n",
    "\n",
    "\n",
    "\n"
   ]
  },
  {
   "cell_type": "code",
   "execution_count": 5,
   "id": "47a19de2",
   "metadata": {},
   "outputs": [
    {
     "data": {
      "image/png": "[encoded data removed]",
      "text/plain": [
       "<Figure size 640x480 with 1 Axes>"
      ]
     },
     "metadata": {},
     "output_type": "display_data"
    }
   ],
   "source": [
    "import control\n",
    "import matplotlib.pyplot as plt\n",
    "\n",
    "# Define transfer function\n",
    "num = [-0.1, 1]  # -s + 1\n",
    "den = [0.11, .51, 1]  # s^2 + s + 1\n",
    "G = control.TransferFunction(num, den)\n",
    "\n",
    "# Compute step response\n",
    "t, y = control.step_response(G)\n",
    "\n",
    "# Plot\n",
    "plt.plot(t, y)\n",
    "plt.xlabel('Time')\n",
    "plt.ylabel('Output')\n",
    "plt.grid(True)\n",
    "plt.show()"
   ]
  },
  {
   "cell_type": "code",
   "execution_count": null,
   "id": "ab140b12",
   "metadata": {},
   "outputs": [],
   "source": [
    "import numpy as np\n",
    "import control\n",
    "from scipy.optimize import minimize\n",
    "import matplotlib.pyplot as plt\n",
    "\n",
    "# Simulated or measured step response data (replace with your data)\n",
    "t = np.linspace(0, 10, 1000)  # Time vector\n",
    "y_measured = ...  # Your step response data (e.g., from experiment)\n",
    "\n",
    "# Model step response\n",
    "def model_step_response(params, t):\n",
    "    a, c, d = params\n",
    "    num = [-a, d]  # -as + d\n",
    "    den = [1, c, d]  # s^2 + cs + d\n",
    "    sys = control.TransferFunction(num, den)\n",
    "    t_out, y_out = control.step_response(sys, T=t)\n",
    "    return y_out\n",
    "\n",
    "# Cost function\n",
    "def cost(params, t, y_measured):\n",
    "    y_model = model_step_response(params, t)\n",
    "    return np.sum((y_measured - y_model) ** 2)\n",
    "\n",
    "# Initial guess for parameters [a, c, d]\n",
    "initial_guess = [1.0, 1.0, 1.0]\n",
    "# Optimize\n",
    "result = minimize(cost, initial_guess, args=(t, y_measured), method='Nelder-Mead')\n",
    "a_opt, c_opt, d_opt = result.x\n",
    "\n",
    "# Simulate the fitted model\n",
    "sys_opt = control.TransferFunction([-a_opt, d_opt], [1, c_opt, d_opt])\n",
    "t_out, y_opt = control.step_response(sys_opt, T=t)\n",
    "\n",
    "# Plot\n",
    "plt.plot(t, y_measured, 'b-', label='Measured')\n",
    "plt.plot(t_out, y_opt, 'r--', label='Fitted Model')\n",
    "plt.xlabel('Time')\n",
    "plt.ylabel('Output')\n",
    "plt.legend()\n",
    "plt.grid(True)\n",
    "plt.show()\n",
    "\n",
    "print(f\"Fitted parameters: a={a_opt:.3f}, c={c_opt:.3f}, d={d_opt:.3f}\")\n",
    "print(f\"Transfer function: G(s) = (-{a_opt:.3f}s + {d_opt:.3f}) / (s^2 + {c_opt:.3f}s + {d_opt:.3f})\")"
   ]
  },
  {
   "cell_type": "code",
   "execution_count": null,
   "id": "bf6938b8",
   "metadata": {},
   "outputs": [],
   "source": [
    "import numpy as np\n",
    "from sklearn.preprocessing import PolynomialFeatures\n",
    "from sklearn.linear_model import LinearRegression\n",
    "from sklearn.pipeline import make_pipeline\n",
    "\n",
    "# Example data: list of datasets, each with x_t, drift_y_t, y0, x0\n",
    "datasets = [\n",
    "    {'x_t': np.array([...]), 'drift_y_t': np.array([...]), 'y0': 1.0, 'x0': 0.0},\n",
    "    {'x_t': np.array([...]), 'drift_y_t': np.array([...]), 'y0': 2.0, 'x0': 0.0},\n",
    "    # ... more datasets\n",
    "]\n",
    "\n",
    "# Step 1: Estimate alpha(x0, y0) and beta(x0, y0) for each dataset\n",
    "x0_list = []\n",
    "y0_list = []\n",
    "alpha_list = []\n",
    "beta_list = []\n",
    "for data in datasets:\n",
    "    x_t, drift_y_t, y0, x0 = data['x_t'], data['drift_y_t'], data['y0'], data['x0']\n",
    "    # Prepare data for linear regression: drift_y(t) = alpha * (x(t) - x0) + beta\n",
    "    X = (x_t - x0).reshape(-1, 1)  # Independent variable: x(t) - x0\n",
    "    y = drift_y_t.reshape(-1, 1)   # Dependent variable: drift_y(t)\n",
    "    reg = LinearRegression(fit_intercept=True).fit(X, y)\n",
    "    alpha = reg.coef_[0, 0]  # Slope: alpha(x0, y0)\n",
    "    beta = reg.intercept_[0] # Intercept: beta(x0, y0)\n",
    "    x0_list.append(x0)\n",
    "    y0_list.append(y0)\n",
    "    alpha_list.append(alpha)\n",
    "    beta_list.append(beta)\n",
    "\n",
    "# Step 2: Fit 2D polynomial surfaces to alpha(x0, y0) and beta(x0, y0)\n",
    "degree = 2  # Polynomial degree for x0 and y0\n",
    "poly = PolynomialFeatures(degree)\n",
    "X_features = np.array([x0_list, y0_list]).T  # Shape: (n_datasets, 2)\n",
    "X_poly = poly.fit_transform(X_features)  # Polynomial features for [x0, y0]\n",
    "\n",
    "# Fit alpha(x0, y0)\n",
    "reg_alpha = LinearRegression().fit(X_poly, alpha_list)\n",
    "# Fit beta(x0, y0)\n",
    "reg_beta = LinearRegression().fit(X_poly, beta_list)\n",
    "\n",
    "# Step 3: Predict alpha and beta for new (x0, y0) pairs\n",
    "x0_new = np.array([0.0, 0.5])  # Example new x0 values\n",
    "y0_new = np.array([1.5, 2.5])  # Example new y0 values\n",
    "new_pairs = np.array([x0_new, y0_new]).T  # Shape: (n_new, 2)\n",
    "new_pairs_poly = poly.transform(new_pairs)  # Polynomial features for new pairs\n",
    "\n",
    "alpha_pred = reg_alpha.predict(new_pairs_poly)\n",
    "beta_pred = reg_beta.predict(new_pairs_poly)\n",
    "\n",
    "print(\"Predicted alpha(x0, y0):\", alpha_pred)\n",
    "print(\"Predicted beta(x0, y0):\", beta_pred)\n",
    "\n",
    "# Optional: Predict drift_y for a new dataset\n",
    "# Example: Predict drift_y(t) for a new dataset with x0_new[0], y0_new[0], and some x_t_new\n",
    "x_t_new = np.array([...])  # New time-varying x(t)\n",
    "drift_y_pred = alpha_pred[0] * (x_t_new - x0_new[0]) + beta_pred[0]\n",
    "print(\"Predicted drift_y(t):\", drift_y_pred)"
   ]
  },
  {
   "cell_type": "code",
   "execution_count": null,
   "id": "fa9e2ecb",
   "metadata": {},
   "outputs": [],
   "source": [
    "import numpy as np\n",
    "from sklearn.preprocessing import PolynomialFeatures\n",
    "from sklearn.linear_model import LinearRegression\n",
    "from sklearn.pipeline import make_pipeline\n",
    "import pwlf\n",
    "\n",
    "# Example data: list of datasets, each with x_t, drift_y_t, y0, x0\n",
    "datasets = [\n",
    "    {'x_t': np.array([...]), 'drift_y_t': np.array([...]), 'y0': 1.0, 'x0': 0.0},\n",
    "    {'x_t': np.array([...]), 'drift_y_t': np.array([...]), 'y0': 2.0, 'x0': 0.0},\n",
    "    # ... more datasets\n",
    "]\n",
    "\n",
    "# Step 1: Estimate alpha(x0, y0), beta(x0, y0), and Y_max(x0, y0) for each dataset\n",
    "x0_list = []\n",
    "y0_list = []\n",
    "alpha_list = []\n",
    "beta_list = []\n",
    "Y_max_list = []\n",
    "has_Y_max = []  # Track which datasets have Y_max defined\n",
    "\n",
    "for data in datasets:\n",
    "    x_t, drift_y_t, y0, x0 = data['x_t'], data['drift_y_t'], data['y0'], data['x0']\n",
    "    \n",
    "    # Use pwlf for piecewise linear regression with one breakpoint\n",
    "    model = pwlf.PiecewiseLinFit(x_t - x0, drift_y_t)  # Work in x(t) - x0 space\n",
    "    model.fit(2, loss='huber')  # Use Huber loss for robustness to noise\n",
    "    \n",
    "    breakpoints = model.fit_breaks  # Breakpoint in x(t) - x0 space\n",
    "    slopes = model.slopes\n",
    "    intercepts = model.intercepts\n",
    "    \n",
    "    # Extract alpha, beta, and Y_max\n",
    "    alpha = slopes[0]  # Slope of first segment\n",
    "    beta = intercepts[0]  # Intercept of first segment\n",
    "    \n",
    "    # Check if second segment is constant (slope near zero) and within data range\n",
    "    x_t1 = breakpoints[1] + x0  # Convert breakpoint back to x(t) space\n",
    "    if (abs(slopes[1]) < 1e-3 and  # Second segment has near-zero slope (constant)\n",
    "        x_t1 <= max(x_t) and x_t1 >= min(x_t)):  # Breakpoint within data range\n",
    "        Y_max = intercepts[1]  # Y_max is intercept of second segment\n",
    "        has_Y_max.append(True)\n",
    "    else:\n",
    "        Y_max = None  # No constant region detected\n",
    "        has_Y_max.append(False)\n",
    "    \n",
    "    x0_list.append(x0)\n",
    "    y0_list.append(y0)\n",
    "    alpha_list.append(alpha)\n",
    "    beta_list.append(beta)\n",
    "    Y_max_list.append(Y_max)\n",
    "\n",
    "# Step 2: Fit 2D polynomial surfaces to alpha(x0, y0), beta(x0, y0), and Y_max(x0, y0)\n",
    "degree = 2\n",
    "poly = PolynomialFeatures(degree)\n",
    "X_features = np.array([x0_list, y0_list]).T  # Shape: (n_datasets, 2)\n",
    "X_poly = poly.fit_transform(X_features)\n",
    "\n",
    "# Fit alpha(x0, y0)\n",
    "reg_alpha = LinearRegression().fit(X_poly, alpha_list)\n",
    "# Fit beta(x0, y0)\n",
    "reg_beta = LinearRegression().fit(X_poly, beta_list)\n",
    "# Fit Y_max(x0, y0) only for datasets with Y_max\n",
    "if any(has_Y_max):\n",
    "    X_poly_Y_max = X_poly[np.array(has_Y_max)]\n",
    "    Y_max_valid = np.array([y for y, valid in zip(Y_max_list, has_Y_max) if valid])\n",
    "    reg_Y_max = LinearRegression().fit(X_poly_Y_max, Y_max_valid)\n",
    "else:\n",
    "    reg_Y_max = None\n",
    "\n",
    "# Step 3: Predict alpha, beta, and Y_max for new (x0, y0) pairs\n",
    "x0_new = np.array([0.0, 0.5])  # Example new x0 values\n",
    "y0_new = np.array([1.5, 2.5])  # Example new y0 values\n",
    "new_pairs = np.array([x0_new, y0_new]).T  # Shape: (n_new, 2)\n",
    "new_pairs_poly = poly.transform(new_pairs)\n",
    "\n",
    "alpha_pred = reg_alpha.predict(new_pairs_poly)\n",
    "beta_pred = reg_beta.predict(new_pairs_poly)\n",
    "print(\"Predicted alpha(x0, y0):\", alpha_pred)\n",
    "print(\"Predicted beta(x0, y0):\", beta_pred)\n",
    "\n",
    "if reg_Y_max is not None:\n",
    "    Y_max_pred = reg_Y_max.predict(new_pairs_poly)\n",
    "    print(\"Predicted Y_max(x0, y0):\", Y_max_pred)\n",
    "else:\n",
    "    print(\"No Y_max model fitted (no datasets reached threshold)\")\n",
    "\n",
    "# Optional: Predict drift_y for a new dataset\n",
    "x_t_new = np.array([...])  # New time-varying x(t)\n",
    "if reg_Y_max is not None:\n",
    "    # For prediction, x(t1) must be provided or estimated\n",
    "    x_t1_new = ...  # Placeholder: need to define x(t1) for new data\n",
    "    drift_y_pred = np.where(\n",
    "        x_t_new < x_t1_new,\n",
    "        alpha_pred[0] * (x_t_new - x0_new[0]) + beta_pred[0],\n",
    "        Y_max_pred[0]\n",
    "    )\n",
    "else:\n",
    "    # No threshold, use linear model only\n",
    "    drift_y_pred = alpha_pred[0] * (x_t_new - x0_new[0]) + beta_pred[0]\n",
    "print(\"Predicted drift_y(t):\", drift_y_pred)"
   ]
  }
 ],
 "metadata": {
  "kernelspec": {
   "display_name": "Python 3",
   "language": "python",
   "name": "python3"
  },
  "language_info": {
   "codemirror_mode": {
    "name": "ipython",
    "version": 3
   },
   "file_extension": ".py",
   "mimetype": "text/x-python",
   "name": "python",
   "nbconvert_exporter": "python",
   "pygments_lexer": "ipython3",
   "version": "3.10.12"
  }
 },
 "nbformat": 4,
 "nbformat_minor": 5
}
