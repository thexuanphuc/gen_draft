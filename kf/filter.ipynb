{
 "cells": [
  {
   "cell_type": "code",
   "execution_count": 6,
   "id": "3e0be55e",
   "metadata": {},
   "outputs": [
    {
     "data": {
      "text/latex": [
       "$\\displaystyle x_{\\text{temp}}: \\left[\\begin{matrix}dt vx_{pred} + x_{pred} + x_{step}\\\\A_{21} x_{pred} + B_{2} u_{in} + vx_{pred}\\end{matrix}\\right]$"
      ],
      "text/plain": [
       "<IPython.core.display.Math object>"
      ]
     },
     "metadata": {},
     "output_type": "display_data"
    },
    {
     "data": {
      "text/latex": [
       "$\\displaystyle P_{\\text{pred}}: \\left[\\begin{matrix}P_{11} + P_{21} dt + Q_{11} + dt \\left(P_{12} + P_{22} dt\\right) & A_{21} \\left(P_{11} + P_{21} dt\\right) + P_{12} + P_{22} dt\\\\A_{21} P_{11} + P_{21} + dt \\left(A_{21} P_{12} + P_{22}\\right) & A_{21} P_{12} + A_{21} \\left(A_{21} P_{11} + P_{21}\\right) + P_{22} + Q_{22}\\end{matrix}\\right]$"
      ],
      "text/plain": [
       "<IPython.core.display.Math object>"
      ]
     },
     "metadata": {},
     "output_type": "display_data"
    },
    {
     "data": {
      "text/latex": [
       "$\\displaystyle S: P_{11} + P_{21} dt + Q_{11} + R_{mea} + dt \\left(P_{12} + P_{22} dt\\right)$"
      ],
      "text/plain": [
       "<IPython.core.display.Math object>"
      ]
     },
     "metadata": {},
     "output_type": "display_data"
    },
    {
     "data": {
      "text/latex": [
       "$\\displaystyle K: \\left[\\begin{matrix}K_{1}\\\\K_{2}\\end{matrix}\\right]$"
      ],
      "text/plain": [
       "<IPython.core.display.Math object>"
      ]
     },
     "metadata": {},
     "output_type": "display_data"
    },
    {
     "data": {
      "text/latex": [
       "$\\displaystyle P_{\\text{update}}: \\left[\\begin{matrix}K_{1}^{2} R_{mea} + P_{pred11} \\left(K_{1} - 1\\right)^{2} & K_{1} K_{2} R_{mea} + K_{2} P_{pred11} \\left(K_{1} - 1\\right) - P_{pred12} \\left(K_{1} - 1\\right)\\\\K_{1} K_{2} R_{mea} + \\left(K_{1} - 1\\right) \\left(K_{2} P_{pred11} - P_{pred21}\\right) & K_{2}^{2} R_{mea} - K_{2} P_{pred12} + K_{2} \\left(K_{2} P_{pred11} - P_{pred21}\\right) + P_{pred22}\\end{matrix}\\right]$"
      ],
      "text/plain": [
       "<IPython.core.display.Math object>"
      ]
     },
     "metadata": {},
     "output_type": "display_data"
    },
    {
     "data": {
      "text/latex": [
       "$\\displaystyle x_{\\text{update}}: \\left[\\begin{matrix}- K_{1} \\left(x_{temp1} - y_{meaUD}\\right) + x_{temp1}\\\\- K_{2} \\left(x_{temp1} - y_{meaUD}\\right) + vx_{step} + x_{temp2}\\end{matrix}\\right]$"
      ],
      "text/plain": [
       "<IPython.core.display.Math object>"
      ]
     },
     "metadata": {},
     "output_type": "display_data"
    },
    {
     "name": "stdout",
     "output_type": "stream",
     "text": [
      "x_temp: Matrix([[dt*vx_pred + x_pred + x_step], [A21*x_pred + B2*u_in + vx_pred]])\n",
      "P_pred: Matrix([[P11 + P21*dt + Q11 + dt*(P12 + P22*dt), A21*(P11 + P21*dt) + P12 + P22*dt], [A21*P11 + P21 + dt*(A21*P12 + P22), A21*P12 + A21*(A21*P11 + P21) + P22 + Q22]])\n",
      "S: P11 + P21*dt + Q11 + R_mea + dt*(P12 + P22*dt)\n",
      "K: Matrix([[K1], [K2]])\n",
      "P_update: Matrix([[K1**2*R_mea + P_pred11*(K1 - 1)**2, K1*K2*R_mea + K2*P_pred11*(K1 - 1) - P_pred12*(K1 - 1)], [K1*K2*R_mea + (K1 - 1)*(K2*P_pred11 - P_pred21), K2**2*R_mea - K2*P_pred12 + K2*(K2*P_pred11 - P_pred21) + P_pred22]])\n",
      "x_update: Matrix([[-K1*(x_temp1 - y_meaUD) + x_temp1], [-K2*(x_temp1 - y_meaUD) + vx_step + x_temp2]])\n"
     ]
    }
   ],
   "source": [
    "from sympy import symbols, Matrix, eye, simplify\n",
    "from sympy import latex\n",
    "from IPython.display import display, Math\n",
    "\n",
    "# Define symbols\n",
    "dt, k_re, mass, u = symbols('dt k_re mass u_in')\n",
    "\n",
    "A21 = symbols('A21')  # Element of matrix A\n",
    "B2 = symbols('B2')  # Element of matrix B\n",
    "P11, P12, P21, P22 = symbols('P11 P12 P21 P22')  # Elements of covariance matrix P\n",
    "P11_sim, P12_sim, P21_sim, P22_sim = symbols('P_pred11 P_pred12 P_pred21 P_pred22')  # Simulated covariance matrix elements\n",
    "Q11, Q22 = symbols('Q11 Q22')  # Elements of process noise covariance matrix Q\n",
    "R_mea = symbols('R_mea')  # Measurement noise covariance (scalar)\n",
    "\n",
    "x_pred, vx_pred = symbols('x_pred vx_pred')  # Predicted state variables\n",
    "y_mea, y_meaUD = symbols('y_mea y_meaUD')  # Measurement variable\n",
    "x_step, vx_step = symbols('x_step vx_step')  # relative update\n",
    "# System matrices\n",
    "A = Matrix([[1, dt], \n",
    "            [A21, 1]])\n",
    "B = Matrix([[0], [B2]])\n",
    "C = Matrix([[1, 0]])\n",
    "x_pred_vector = Matrix([[x_pred], [vx_pred]])\n",
    "\n",
    "# Prediction step (before jumping)\n",
    "x_temp = A * x_pred_vector + B * u  # Predicted state vector\n",
    "x_temp[0] += x_step  \n",
    "P_pred = A * Matrix([[P11, P12], [P21, P22]]) * A.T + Matrix([[Q11, 0], [0, Q22]])\n",
    "jumping_step = Matrix([[x_step], [vx_step]])\n",
    "\n",
    "# Measurement step(after jumping)\n",
    "# Calculate Kalman gain\n",
    "S = (C * P_pred * C.T)[0, 0] + R_mea  # Extract scalar from 1x1 matrix and add R\n",
    "S_sim = symbols('S')  # Measurement prediction covariance\n",
    "# K = P_pred * C.T / S  # 2x1 vector\n",
    "\n",
    "# Joseph form update\n",
    "x_temp_sim_11, x_temp_sim_12 = symbols('x_temp1 x_temp2')\n",
    "x_temp_sim = Matrix([[x_temp_sim_11], [x_temp_sim_12]])\n",
    "K1, K2 = symbols('K1 K2')  # Kalman gain components\n",
    "# K = Matrix([[P11_sim/S_sim], [P21_sim/S_sim]])\n",
    "K = Matrix([[K1], [K2]])\n",
    "P_pred_sim = Matrix([[P11_sim, P12_sim], [P21_sim, P22_sim]])\n",
    "\n",
    "I = eye(2)\n",
    "IKC = I - K * C\n",
    "P_update = IKC * P_pred_sim * IKC.T + K * R_mea * K.T\n",
    "\n",
    "# compute update state vector\n",
    "x_update = x_temp_sim + K * (y_meaUD - (C * (x_temp_sim))[0, 0])\n",
    "x_update[1] += jumping_step[1]\n",
    "\n",
    "# Simplify expressions\n",
    "# Simplify all key expressions\n",
    "x_temp_s = simplify(x_temp)\n",
    "P_pred_s = simplify(P_pred)\n",
    "S_s = simplify(S)\n",
    "K_s = simplify(K)\n",
    "P_update_s = simplify(P_update)\n",
    "x_update_s = simplify(x_update)\n",
    "\n",
    "# Display results in LaTeX\n",
    "display(Math(r\"x_{\\text{temp}}: \" + latex(x_temp_s)))\n",
    "display(Math(r\"P_{\\text{pred}}: \" + latex(P_pred_s)))\n",
    "display(Math(r\"S: \" + latex(S_s)))\n",
    "display(Math(r\"K: \" + latex(K_s)))\n",
    "display(Math(r\"P_{\\text{update}}: \" + latex(P_update_s)))\n",
    "display(Math(r\"x_{\\text{update}}: \" + latex(x_update_s)))\n",
    "print(\"x_temp:\", x_temp_s)\n",
    "print(\"P_pred:\", P_pred_s)\n",
    "print(\"S:\", S_s)\n",
    "print(\"K:\", K_s)\n",
    "print(\"P_update:\", P_update_s)\n",
    "print(\"x_update:\", x_update_s)\n",
    "\n",
    "\n",
    "\n",
    "\n"
   ]
  },
  {
   "cell_type": "code",
   "execution_count": null,
   "id": "47a19de2",
   "metadata": {
    "vscode": {
     "languageId": "cpp"
    }
   },
   "outputs": [],
   "source": []
  },
  {
   "cell_type": "code",
   "execution_count": null,
   "id": "ab140b12",
   "metadata": {},
   "outputs": [],
   "source": []
  }
 ],
 "metadata": {
  "kernelspec": {
   "display_name": "Python 3",
   "language": "python",
   "name": "python3"
  },
  "language_info": {
   "codemirror_mode": {
    "name": "ipython",
    "version": 3
   },
   "file_extension": ".py",
   "mimetype": "text/x-python",
   "name": "python",
   "nbconvert_exporter": "python",
   "pygments_lexer": "ipython3",
   "version": "3.10.12"
  }
 },
 "nbformat": 4,
 "nbformat_minor": 5
}
