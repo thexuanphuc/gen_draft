{
 "cells": [
  {
   "cell_type": "code",
   "execution_count": 10,
   "id": "2374e911",
   "metadata": {},
   "outputs": [
    {
     "name": "stdout",
     "output_type": "stream",
     "text": [
      "\u001b[31mERROR: Could not find a version that satisfies the requirement pkg_resources (from versions: none)\u001b[0m\u001b[31m\n",
      "\u001b[0m\u001b[31mERROR: No matching distribution found for pkg_resources\u001b[0m\u001b[31m\n",
      "\u001b[0m"
     ]
    }
   ],
   "source": [
    "# !pip install \"matplotlib>=3.6.0\" \"derivative~=0.6.0\" \"scikit-learn==1.1.3\" \"numpy>=1.20,<=1.26\" \"scipy>1.6.0,<=1.11.2\" \"pydmd>0.4,<=0.4.1\" \"optht~=0.2.0\" \"prettytable>3.0.0,<=3.9.0\"\n",
    "# pkg_resources \n",
    "!pip install pkg_resources"
   ]
  },
  {
   "cell_type": "code",
   "execution_count": 9,
   "id": "6fcc4e1a",
   "metadata": {},
   "outputs": [
    {
     "ename": "ModuleNotFoundError",
     "evalue": "No module named 'pkg_resources'",
     "output_type": "error",
     "traceback": [
      "\u001b[31m---------------------------------------------------------------------------\u001b[39m",
      "\u001b[31mModuleNotFoundError\u001b[39m                       Traceback (most recent call last)",
      "\u001b[36mCell\u001b[39m\u001b[36m \u001b[39m\u001b[32mIn[9]\u001b[39m\u001b[32m, line 5\u001b[39m\n\u001b[32m      2\u001b[39m sys.path.append(\u001b[33m'\u001b[39m\u001b[33m../src\u001b[39m\u001b[33m'\u001b[39m)\n\u001b[32m      4\u001b[39m get_ipython().run_line_magic(\u001b[33m'\u001b[39m\u001b[33mmatplotlib\u001b[39m\u001b[33m'\u001b[39m, \u001b[33m'\u001b[39m\u001b[33minline\u001b[39m\u001b[33m'\u001b[39m)\n\u001b[32m----> \u001b[39m\u001b[32m5\u001b[39m \u001b[38;5;28;01mimport\u001b[39;00m\u001b[38;5;250m \u001b[39m\u001b[34;01mpykoopman\u001b[39;00m\u001b[38;5;250m \u001b[39m\u001b[38;5;28;01mas\u001b[39;00m\u001b[38;5;250m \u001b[39m\u001b[34;01mpk\u001b[39;00m\n\u001b[32m      6\u001b[39m \u001b[38;5;28;01mfrom\u001b[39;00m\u001b[38;5;250m \u001b[39m\u001b[34;01mpykoopman\u001b[39;00m\u001b[34;01m.\u001b[39;00m\u001b[34;01mcommon\u001b[39;00m\u001b[34;01m.\u001b[39;00m\u001b[34;01mexamples\u001b[39;00m\u001b[38;5;250m \u001b[39m\u001b[38;5;28;01mimport\u001b[39;00m forced_duffing, rk4, sine_wave  \u001b[38;5;66;03m# required for example system\u001b[39;00m\n\u001b[32m      7\u001b[39m \u001b[38;5;28;01mimport\u001b[39;00m\u001b[38;5;250m \u001b[39m\u001b[34;01mmatplotlib\u001b[39;00m\u001b[34;01m.\u001b[39;00m\u001b[34;01mpyplot\u001b[39;00m\u001b[38;5;250m \u001b[39m\u001b[38;5;28;01mas\u001b[39;00m\u001b[38;5;250m \u001b[39m\u001b[34;01mplt\u001b[39;00m\n",
      "\u001b[36mFile \u001b[39m\u001b[32m~/working/summer_hw/.venv/lib/python3.11/site-packages/pykoopman/__init__.py:3\u001b[39m\n\u001b[32m      1\u001b[39m \u001b[38;5;28;01mfrom\u001b[39;00m\u001b[38;5;250m \u001b[39m\u001b[34;01m__future__\u001b[39;00m\u001b[38;5;250m \u001b[39m\u001b[38;5;28;01mimport\u001b[39;00m annotations\n\u001b[32m----> \u001b[39m\u001b[32m3\u001b[39m \u001b[38;5;28;01mfrom\u001b[39;00m\u001b[38;5;250m \u001b[39m\u001b[34;01mpkg_resources\u001b[39;00m\u001b[38;5;250m \u001b[39m\u001b[38;5;28;01mimport\u001b[39;00m DistributionNotFound\n\u001b[32m      4\u001b[39m \u001b[38;5;28;01mfrom\u001b[39;00m\u001b[38;5;250m \u001b[39m\u001b[34;01mpkg_resources\u001b[39;00m\u001b[38;5;250m \u001b[39m\u001b[38;5;28;01mimport\u001b[39;00m get_distribution\n\u001b[32m      6\u001b[39m \u001b[38;5;28;01mtry\u001b[39;00m:\n",
      "\u001b[31mModuleNotFoundError\u001b[39m: No module named 'pkg_resources'"
     ]
    }
   ],
   "source": [
    "import sys\n",
    "sys.path.append('../src')\n",
    "\n",
    "%matplotlib inline\n",
    "import pykoopman as pk\n",
    "from pykoopman.common.examples import forced_duffing, rk4, sine_wave  # required for example system\n",
    "import matplotlib.pyplot as plt\n",
    "import numpy as np\n",
    "import numpy.random as rnd\n",
    "np.random.seed(42)  # for reproducibility\n",
    "\n",
    "import warnings\n",
    "warnings.filterwarnings('ignore')\n",
    "\n"
   ]
  },
  {
   "cell_type": "code",
   "execution_count": null,
   "id": "3f3fe055",
   "metadata": {},
   "outputs": [],
   "source": [
    "import math\n",
    "\n",
    "# State variables: x, y (position), theta (orientation), vx, vy (velocity), omega (angular velocity)\n",
    "# Misaligned measurements: x2, y2 (Hall sensor outputs)\n",
    "# Constants for Stribeck friction\n",
    "delta = 0.1  # Empirically tuned small positive constant for Stribeck friction\n",
    "alpha = 0.5  # Parameter for rational function approximation of Stribeck friction\n",
    "\n",
    "# Dictionary of observables as lambda functions\n",
    "observables = [\n",
    "    # Basic state observables\n",
    "    lambda x, y, theta, vx, vy, omega, x2, y2: x,  # Position x\n",
    "    lambda x, y, theta, vx, vy, omega, x2, y2: y,  # Position y\n",
    "    lambda x, y, theta, vx, vy, omega, x2, y2: theta,  # Orientation theta\n",
    "    lambda x, y, theta, vx, vy, omega, x2, y2: vx,  # Velocity vx\n",
    "    lambda x, y, theta, vx, vy, omega, x2, y2: vy,  # Velocity vy\n",
    "    lambda x, y, theta, vx, vy, omega, x2, y2: omega,  # Angular velocity omega\n",
    "\n",
    "    # Dry Friction (Coulomb): Sign functions, sgn(0) = 0\n",
    "    lambda x, y, theta, vx, vy, omega, x2, y2: 1.0 if vx > 0 else (-1.0 if vx < 0 else 0.0),  # sgn(vx)\n",
    "    lambda x, y, theta, vx, vy, omega, x2, y2: 1.0 if vy > 0 else (-1.0 if vy < 0 else 0.0),  # sgn(vy)\n",
    "    lambda x, y, theta, vx, vy, omega, x2, y2: 1.0 if omega > 0 else (-1.0 if omega < 0 else 0.0),  # sgn(omega)\n",
    "\n",
    "    # Stribeck Friction: Smooth approximations\n",
    "    lambda x, y, theta, vx, vy, omega, x2, y2: vx * math.exp(-abs(vx) / delta),  # vx * e^(-|vx|/delta)\n",
    "    lambda x, y, theta, vx, vy, omega, x2, y2: vy * math.exp(-abs(vy) / delta),  # vy * e^(-|vy|/delta)\n",
    "    lambda x, y, theta, vx, vy, omega, x2, y2: omega * math.exp(-abs(omega) / delta),  # omega * e^(-|omega|/delta)\n",
    "    lambda x, y, theta, vx, vy, omega, x2, y2: vx / (1 + alpha * abs(vx)),  # vx / (1 + alpha |vx|)\n",
    "    lambda x, y, theta, vx, vy, omega, x2, y2: vy / (1 + alpha * abs(vy)),  # vy / (1 + alpha |vy|)\n",
    "    lambda x, y, theta, vx, vy, omega, x2, y2: omega / (1 + alpha * abs(omega)),  # omega / (1 + alpha |omega|)\n",
    "    lambda x, y, theta, vx, vy, omega, x2, y2: vx / (1 + alpha * vx ** 2),  # vx / (1 + alpha vx^2)\n",
    "    lambda x, y, theta, vx, vy, omega, x2, y2: vy / (1 + alpha * vy ** 2),  # vy / (1 + alpha vy^2)\n",
    "    lambda x, y, theta, vx, vy, omega, x2, y2: omega / (1 + alpha * omega ** 2),  # omega / (1 + alpha omega^2)\n",
    "\n",
    "    # Gravity: Constant term\n",
    "    lambda x, y, theta, vx, vy, omega, x2, y2: 1.0,  # Constant for gravity\n",
    "\n",
    "    # External Magnetic Force: Position-dependent terms\n",
    "    lambda x, y, theta, vx, vy, omega, x2, y2: x ** 2,  # x^2\n",
    "    lambda x, y, theta, vx, vy, omega, x2, y2: y ** 2,  # y^2\n",
    "    lambda x, y, theta, vx, vy, omega, x2, y2: x ** 3,  # x^3\n",
    "    lambda x, y, theta, vx, vy, omega, x2, y2: y ** 3,  # y^3\n",
    "    lambda x, y, theta, vx, vy, omega, x2, y2: 1 / (x ** 2 + y ** 2 + 1e-6),  # 1 / (x^2 + y^2), small constant to avoid division by zero\n",
    "    lambda x, y, theta, vx, vy, omega, x2, y2: 1 / ((x ** 2 + y ** 2 + 1e-6) ** 1.5),  # 1 / (x^2 + y^2)^(3/2)\n",
    "\n",
    "    # Hall Sensor Misalignment: Direct inclusion of misaligned measurements\n",
    "    lambda x, y, theta, vx, vy, omega, x2, y2: x2,  # Misaligned x2\n",
    "    lambda x, y, theta, vx, vy, omega, x2, y2: y2,  # Misaligned y2\n",
    "    lambda x, y, theta, vx, vy, omega, x2, y2: x2 ** 2,  # x2^2\n",
    "    lambda x, y, theta, vx, vy, omega, x2, y2: y2 ** 2,  # y2^2\n",
    "    lambda x, y, theta, vx, vy, omega, x2, y2: x2 * y2,  # x2 * y2\n",
    "]\n",
    "\n",
    "# Corresponding observable names for interpretability\n",
    "observable_names = [\n",
    "    # Basic state observables\n",
    "    lambda s: \"x\",\n",
    "    lambda s: \"y\",\n",
    "    lambda s: \"theta\",\n",
    "    lambda s: \"vx\",\n",
    "    lambda s: \"vy\",\n",
    "    lambda s: \"omega\",\n",
    "\n",
    "    # Dry Friction\n",
    "    lambda s: \"sgn(vx)\",\n",
    "    lambda s: \"sgn(vy)\",\n",
    "    lambda s: \"sgn(omega)\",\n",
    "\n",
    "    # Stribeck Friction\n",
    "    lambda s: f\"vx * e^(-|vx|/{delta})\",\n",
    "    lambda s: f\"vy * e^(-|vy|/{delta})\",\n",
    "    lambda s: f\"omega * e^(-|omega|/{delta})\",\n",
    "    lambda s: f\"vx / (1 + {alpha} |vx|)\",\n",
    "    lambda s: f\"vy / (1 + {alpha} |vy|)\",\n",
    "    lambda s: f\"omega / (1 + {alpha} |omega|)\",\n",
    "    lambda s: f\"vx / (1 + {alpha} vx^2)\",\n",
    "    lambda s: f\"vy / (1 + {alpha} vy^2)\",\n",
    "    lambda s: f\"omega / (1 + {alpha} omega^2)\",\n",
    "\n",
    "    # Gravity\n",
    "    lambda s: \"1\",\n",
    "\n",
    "    # External Magnetic Force\n",
    "    lambda s: \"x^2\",\n",
    "    lambda s: \"y^2\",\n",
    "    lambda s: \"x^3\",\n",
    "    lambda s: \"y^3\",\n",
    "    lambda s: \"1 / (x^2 + y^2)\",\n",
    "    lambda s: \"1 / (x^2 + y^2)^(3/2)\",\n",
    "\n",
    "    # Hall Sensor Misalignment\n",
    "    lambda s: \"x2\",\n",
    "    lambda s: \"y2\",\n",
    "    lambda s: \"x2^2\",\n",
    "    lambda s: \"y2^2\",\n",
    "    lambda s: \"x2 * y2\",\n",
    "]"
   ]
  }
 ],
 "metadata": {
  "kernelspec": {
   "display_name": ".venv",
   "language": "python",
   "name": "python3"
  },
  "language_info": {
   "codemirror_mode": {
    "name": "ipython",
    "version": 3
   },
   "file_extension": ".py",
   "mimetype": "text/x-python",
   "name": "python",
   "nbconvert_exporter": "python",
   "pygments_lexer": "ipython3",
   "version": "3.11.10"
  }
 },
 "nbformat": 4,
 "nbformat_minor": 5
}
